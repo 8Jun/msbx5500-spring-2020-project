{
 "cells": [
  {
   "cell_type": "code",
   "execution_count": 38,
   "metadata": {},
   "outputs": [],
   "source": [
    "import pandas as pd\n",
    "import numpy as np\n",
    "import numpy.ma as ma\n",
    "import pickle as pkl\n",
    "import matplotlib.pyplot as plt\n",
    "from sklearn.model_selection import train_test_split\n",
    "from sklearn.preprocessing import StandardScaler, OneHotEncoder\n",
    "from sklearn.pipeline import Pipeline\n",
    "from sklearn.impute import SimpleImputer\n",
    "from sklearn.compose import ColumnTransformer\n",
    "from sklearn.linear_model import LogisticRegression\n",
    "from sklearn.tree import DecisionTreeClassifier\n",
    "from sklearn.ensemble import RandomForestClassifier\n",
    "from sklearn.ensemble import GradientBoostingClassifier\n",
    "from sklearn.metrics import classification_report, confusion_matrix, plot_confusion_matrix\n",
    "from sklearn.metrics import precision_recall_curve\n",
    "from sklearn.metrics import plot_precision_recall_curve\n",
    "from sklearn.metrics import average_precision_score\n",
    "from sklearn.metrics import log_loss\n",
    "from sklearn.metrics import roc_auc_score, roc_curve, auc\n",
    "from sklearn.ensemble import GradientBoostingClassifier\n",
    "from imblearn.over_sampling import SMOTENC\n",
    "from imblearn.under_sampling import RandomUnderSampler\n",
    "from imblearn.under_sampling import CondensedNearestNeighbour\n",
    "from collections import Counter\n",
    "from scipy.stats import hmean\n",
    "\n",
    "\n",
    "\n",
    "filename = 'capture20110810.binetflow'\n",
    "try:\n",
    "    # try to load the file from a local directory\n",
    "    data = pd.read_csv(filename)\n",
    "    pass\n",
    "except:\n",
    "    # fetch it from the url\n",
    "    data = pd.read_csv('https://mcfp.felk.cvut.cz/publicDatasets/CTU-Malware-Capture-Botnet-42/detailed-bidirectional-flow-labels/{}'.format(filename))\n",
    "    data.to_csv(filename)\n",
    "    pass"
   ]
  },
  {
   "cell_type": "code",
   "execution_count": 39,
   "metadata": {},
   "outputs": [
    {
     "data": {
      "text/html": [
       "<div>\n",
       "<style scoped>\n",
       "    .dataframe tbody tr th:only-of-type {\n",
       "        vertical-align: middle;\n",
       "    }\n",
       "\n",
       "    .dataframe tbody tr th {\n",
       "        vertical-align: top;\n",
       "    }\n",
       "\n",
       "    .dataframe thead th {\n",
       "        text-align: right;\n",
       "    }\n",
       "</style>\n",
       "<table border=\"1\" class=\"dataframe\">\n",
       "  <thead>\n",
       "    <tr style=\"text-align: right;\">\n",
       "      <th></th>\n",
       "      <th>StartTime</th>\n",
       "      <th>Dur</th>\n",
       "      <th>Proto</th>\n",
       "      <th>SrcAddr</th>\n",
       "      <th>Sport</th>\n",
       "      <th>Dir</th>\n",
       "      <th>DstAddr</th>\n",
       "      <th>Dport</th>\n",
       "      <th>State</th>\n",
       "      <th>sTos</th>\n",
       "      <th>dTos</th>\n",
       "      <th>TotPkts</th>\n",
       "      <th>TotBytes</th>\n",
       "      <th>SrcBytes</th>\n",
       "      <th>Label</th>\n",
       "    </tr>\n",
       "  </thead>\n",
       "  <tbody>\n",
       "    <tr>\n",
       "      <th>0</th>\n",
       "      <td>2011/08/10 09:46:53.047277</td>\n",
       "      <td>3550.182373</td>\n",
       "      <td>udp</td>\n",
       "      <td>212.50.71.179</td>\n",
       "      <td>39678</td>\n",
       "      <td>&lt;-&gt;</td>\n",
       "      <td>147.32.84.229</td>\n",
       "      <td>13363</td>\n",
       "      <td>CON</td>\n",
       "      <td>0.0</td>\n",
       "      <td>0.0</td>\n",
       "      <td>12</td>\n",
       "      <td>875</td>\n",
       "      <td>413</td>\n",
       "      <td>flow=Background-UDP-Established</td>\n",
       "    </tr>\n",
       "    <tr>\n",
       "      <th>1</th>\n",
       "      <td>2011/08/10 09:46:53.048843</td>\n",
       "      <td>0.000883</td>\n",
       "      <td>udp</td>\n",
       "      <td>84.13.246.132</td>\n",
       "      <td>28431</td>\n",
       "      <td>&lt;-&gt;</td>\n",
       "      <td>147.32.84.229</td>\n",
       "      <td>13363</td>\n",
       "      <td>CON</td>\n",
       "      <td>0.0</td>\n",
       "      <td>0.0</td>\n",
       "      <td>2</td>\n",
       "      <td>135</td>\n",
       "      <td>75</td>\n",
       "      <td>flow=Background-UDP-Established</td>\n",
       "    </tr>\n",
       "    <tr>\n",
       "      <th>2</th>\n",
       "      <td>2011/08/10 09:46:53.049895</td>\n",
       "      <td>0.000326</td>\n",
       "      <td>tcp</td>\n",
       "      <td>217.163.21.35</td>\n",
       "      <td>80</td>\n",
       "      <td>&lt;?&gt;</td>\n",
       "      <td>147.32.86.194</td>\n",
       "      <td>2063</td>\n",
       "      <td>FA_A</td>\n",
       "      <td>0.0</td>\n",
       "      <td>0.0</td>\n",
       "      <td>2</td>\n",
       "      <td>120</td>\n",
       "      <td>60</td>\n",
       "      <td>flow=Background</td>\n",
       "    </tr>\n",
       "    <tr>\n",
       "      <th>3</th>\n",
       "      <td>2011/08/10 09:46:53.053771</td>\n",
       "      <td>0.056966</td>\n",
       "      <td>tcp</td>\n",
       "      <td>83.3.77.74</td>\n",
       "      <td>32882</td>\n",
       "      <td>&lt;?&gt;</td>\n",
       "      <td>147.32.85.5</td>\n",
       "      <td>21857</td>\n",
       "      <td>FA_FA</td>\n",
       "      <td>0.0</td>\n",
       "      <td>0.0</td>\n",
       "      <td>3</td>\n",
       "      <td>180</td>\n",
       "      <td>120</td>\n",
       "      <td>flow=Background</td>\n",
       "    </tr>\n",
       "    <tr>\n",
       "      <th>4</th>\n",
       "      <td>2011/08/10 09:46:53.053937</td>\n",
       "      <td>3427.768066</td>\n",
       "      <td>udp</td>\n",
       "      <td>74.89.223.204</td>\n",
       "      <td>21278</td>\n",
       "      <td>&lt;-&gt;</td>\n",
       "      <td>147.32.84.229</td>\n",
       "      <td>13363</td>\n",
       "      <td>CON</td>\n",
       "      <td>0.0</td>\n",
       "      <td>0.0</td>\n",
       "      <td>42</td>\n",
       "      <td>2856</td>\n",
       "      <td>1596</td>\n",
       "      <td>flow=Background-UDP-Established</td>\n",
       "    </tr>\n",
       "  </tbody>\n",
       "</table>\n",
       "</div>"
      ],
      "text/plain": [
       "                    StartTime          Dur Proto        SrcAddr  Sport    Dir  \\\n",
       "0  2011/08/10 09:46:53.047277  3550.182373   udp  212.50.71.179  39678    <->   \n",
       "1  2011/08/10 09:46:53.048843     0.000883   udp  84.13.246.132  28431    <->   \n",
       "2  2011/08/10 09:46:53.049895     0.000326   tcp  217.163.21.35     80    <?>   \n",
       "3  2011/08/10 09:46:53.053771     0.056966   tcp     83.3.77.74  32882    <?>   \n",
       "4  2011/08/10 09:46:53.053937  3427.768066   udp  74.89.223.204  21278    <->   \n",
       "\n",
       "         DstAddr  Dport  State  sTos  dTos  TotPkts  TotBytes  SrcBytes  \\\n",
       "0  147.32.84.229  13363    CON   0.0   0.0       12       875       413   \n",
       "1  147.32.84.229  13363    CON   0.0   0.0        2       135        75   \n",
       "2  147.32.86.194   2063   FA_A   0.0   0.0        2       120        60   \n",
       "3    147.32.85.5  21857  FA_FA   0.0   0.0        3       180       120   \n",
       "4  147.32.84.229  13363    CON   0.0   0.0       42      2856      1596   \n",
       "\n",
       "                             Label  \n",
       "0  flow=Background-UDP-Established  \n",
       "1  flow=Background-UDP-Established  \n",
       "2                  flow=Background  \n",
       "3                  flow=Background  \n",
       "4  flow=Background-UDP-Established  "
      ]
     },
     "execution_count": 39,
     "metadata": {},
     "output_type": "execute_result"
    }
   ],
   "source": [
    "data.head()"
   ]
  },
  {
   "cell_type": "code",
   "execution_count": 4,
   "metadata": {},
   "outputs": [],
   "source": [
    "data['Target'] = data['Label'].str.startswith('flow=From-Botnet').astype(int)"
   ]
  },
  {
   "cell_type": "code",
   "execution_count": 5,
   "metadata": {},
   "outputs": [],
   "source": [
    "targetno = data[data['Target']==0]"
   ]
  },
  {
   "cell_type": "code",
   "execution_count": 6,
   "metadata": {},
   "outputs": [],
   "source": [
    "targetyes = data[data['Target']==1]"
   ]
  },
  {
   "cell_type": "code",
   "execution_count": 7,
   "metadata": {
    "scrolled": true
   },
   "outputs": [
    {
     "name": "stdout",
     "output_type": "stream",
     "text": [
      "Percent Minority 1.450134\n"
     ]
    }
   ],
   "source": [
    "print('Percent Minority %f' % ((sum(data['Target'])/len(data['Target']))*100))"
   ]
  },
  {
   "cell_type": "code",
   "execution_count": 8,
   "metadata": {},
   "outputs": [
    {
     "data": {
      "text/plain": [
       "(2783675, 16)"
      ]
     },
     "execution_count": 8,
     "metadata": {},
     "output_type": "execute_result"
    }
   ],
   "source": [
    "targetno.shape"
   ]
  },
  {
   "cell_type": "markdown",
   "metadata": {},
   "source": [
    "# Smote takes too long with categoricals, so I manaully resampled due to computing power restrictions"
   ]
  },
  {
   "cell_type": "code",
   "execution_count": 18,
   "metadata": {},
   "outputs": [],
   "source": [
    "drop_indices = np.random.choice(targetno.index, 2740000, replace=False)\n",
    "targetno_new = targetno.drop(drop_indices)"
   ]
  },
  {
   "cell_type": "code",
   "execution_count": 19,
   "metadata": {},
   "outputs": [],
   "source": [
    "net_flows_new = targetno_new.append(targetyes)"
   ]
  },
  {
   "cell_type": "code",
   "execution_count": 20,
   "metadata": {
    "scrolled": true
   },
   "outputs": [
    {
     "name": "stdout",
     "output_type": "stream",
     "text": [
      "Percent Minority 48.396663\n"
     ]
    }
   ],
   "source": [
    "print('Percent Minority %f' % ((sum(net_flows_new['Target'])/len(net_flows_new['Target']))*100))"
   ]
  },
  {
   "cell_type": "code",
   "execution_count": 21,
   "metadata": {},
   "outputs": [],
   "source": [
    "net_flows = net_flows_new.dropna()\n",
    "X = net_flows.iloc[:,0:14]\n",
    "y = net_flows['Target']"
   ]
  },
  {
   "cell_type": "code",
   "execution_count": 23,
   "metadata": {},
   "outputs": [
    {
     "name": "stdout",
     "output_type": "stream",
     "text": [
      "Percent Minority 40.887351\n"
     ]
    }
   ],
   "source": [
    "print('Percent Minority %f' % ((sum(y)/len(y))*100))"
   ]
  },
  {
   "cell_type": "markdown",
   "metadata": {},
   "source": [
    "# Actually fitting smote"
   ]
  },
  {
   "cell_type": "code",
   "execution_count": 24,
   "metadata": {},
   "outputs": [],
   "source": [
    "categorics = ['StartTime', 'Proto', 'SrcAddr', 'Sport', 'Dir', 'DstAddr', 'Dport', 'State']"
   ]
  },
  {
   "cell_type": "code",
   "execution_count": 25,
   "metadata": {},
   "outputs": [],
   "source": [
    "cat_index = [net_flows.columns.get_loc(c) for c in categorics if c in X]"
   ]
  },
  {
   "cell_type": "code",
   "execution_count": 26,
   "metadata": {},
   "outputs": [],
   "source": [
    "sm = SMOTENC(random_state = 42, categorical_features=[0, 2, 3, 4, 5, 6, 7, 8])"
   ]
  },
  {
   "cell_type": "code",
   "execution_count": 27,
   "metadata": {},
   "outputs": [],
   "source": [
    "X_res, y_res = sm.fit_resample(X, y)"
   ]
  },
  {
   "cell_type": "code",
   "execution_count": 28,
   "metadata": {},
   "outputs": [
    {
     "name": "stdout",
     "output_type": "stream",
     "text": [
      "Percent Minority 50.000000\n"
     ]
    }
   ],
   "source": [
    "print('Percent Minority %f' % ((sum(y_res)/len(y_res))*100))"
   ]
  },
  {
   "cell_type": "markdown",
   "metadata": {},
   "source": [
    "# AAAANNNNDDD we're at a balanced dataset now"
   ]
  },
  {
   "cell_type": "code",
   "execution_count": 29,
   "metadata": {},
   "outputs": [
    {
     "data": {
      "text/plain": [
       "(68789, 14)"
      ]
     },
     "execution_count": 29,
     "metadata": {},
     "output_type": "execute_result"
    }
   ],
   "source": [
    "X.shape"
   ]
  },
  {
   "cell_type": "code",
   "execution_count": 40,
   "metadata": {
    "scrolled": false
   },
   "outputs": [
    {
     "name": "stderr",
     "output_type": "stream",
     "text": [
      "/opt/anaconda3/lib/python3.7/site-packages/sklearn/linear_model/_logistic.py:940: ConvergenceWarning: lbfgs failed to converge (status=1):\n",
      "STOP: TOTAL NO. of ITERATIONS REACHED LIMIT.\n",
      "\n",
      "Increase the number of iterations (max_iter) or scale the data as shown in:\n",
      "    https://scikit-learn.org/stable/modules/preprocessing.html\n",
      "Please also refer to the documentation for alternative solver options:\n",
      "    https://scikit-learn.org/stable/modules/linear_model.html#logistic-regression\n",
      "  extra_warning_msg=_LOGISTIC_SOLVER_CONVERGENCE_MSG)\n"
     ]
    },
    {
     "name": "stdout",
     "output_type": "stream",
     "text": [
      "LogisticRegression\n",
      "model score: 0.640\n",
      "\n",
      "Confusion matrix, without normalization\n",
      "[[2777 5400]\n",
      " [ 448 7641]]\n",
      "Normalized confusion matrix\n",
      "[[0.3396111  0.6603889 ]\n",
      " [0.05538385 0.94461615]]\n"
     ]
    },
    {
     "data": {
      "image/png": "[encoded data removed]",
      "text/plain": [
       "<Figure size 432x288 with 2 Axes>"
      ]
     },
     "metadata": {
      "needs_background": "light"
     },
     "output_type": "display_data"
    },
    {
     "data": {
      "image/png": "[encoded data removed]",
      "text/plain": [
       "<Figure size 432x288 with 2 Axes>"
      ]
     },
     "metadata": {
      "needs_background": "light"
     },
     "output_type": "display_data"
    },
    {
     "name": "stdout",
     "output_type": "stream",
     "text": [
      "              precision    recall  f1-score   support\n",
      "\n",
      "           0       0.86      0.34      0.49      8177\n",
      "           1       0.59      0.94      0.72      8089\n",
      "\n",
      "    accuracy                           0.64     16266\n",
      "   macro avg       0.72      0.64      0.61     16266\n",
      "weighted avg       0.72      0.64      0.60     16266\n",
      "\n",
      "average precision score: 0.496\n",
      "roc_auc_score: 0.552\n",
      "precision-recall AUC: 0.496\n",
      "\n",
      "RandomForestClassifier\n",
      "model score: 0.896\n",
      "\n",
      "Confusion matrix, without normalization\n",
      "[[7707  470]\n",
      " [1223 6866]]\n",
      "Normalized confusion matrix\n",
      "[[0.94252171 0.05747829]\n",
      " [0.15119298 0.84880702]]\n"
     ]
    },
    {
     "data": {
      "image/png": "[encoded data removed]",
      "text/plain": [
       "<Figure size 432x288 with 2 Axes>"
      ]
     },
     "metadata": {
      "needs_background": "light"
     },
     "output_type": "display_data"
    },
    {
     "data": {
      "image/png": "[encoded data removed]",
      "text/plain": [
       "<Figure size 432x288 with 2 Axes>"
      ]
     },
     "metadata": {
      "needs_background": "light"
     },
     "output_type": "display_data"
    },
    {
     "name": "stdout",
     "output_type": "stream",
     "text": [
      "              precision    recall  f1-score   support\n",
      "\n",
      "           0       0.86      0.94      0.90      8177\n",
      "           1       0.94      0.85      0.89      8089\n",
      "\n",
      "    accuracy                           0.90     16266\n",
      "   macro avg       0.90      0.90      0.90     16266\n",
      "weighted avg       0.90      0.90      0.90     16266\n",
      "\n",
      "average precision score: 0.963\n",
      "roc_auc_score: 0.964\n",
      "precision-recall AUC: 0.963\n",
      "\n",
      "GradientBoostingClassifier\n",
      "model score: 0.892\n",
      "\n",
      "Confusion matrix, without normalization\n",
      "[[7420  757]\n",
      " [ 995 7094]]\n",
      "Normalized confusion matrix\n",
      "[[0.90742326 0.09257674]\n",
      " [0.12300655 0.87699345]]\n"
     ]
    },
    {
     "data": {
      "image/png": "[encoded data removed]",
      "text/plain": [
       "<Figure size 432x288 with 2 Axes>"
      ]
     },
     "metadata": {
      "needs_background": "light"
     },
     "output_type": "display_data"
    },
    {
     "data": {
      "image/png": "[encoded data removed]",
      "text/plain": [
       "<Figure size 432x288 with 2 Axes>"
      ]
     },
     "metadata": {
      "needs_background": "light"
     },
     "output_type": "display_data"
    },
    {
     "name": "stdout",
     "output_type": "stream",
     "text": [
      "              precision    recall  f1-score   support\n",
      "\n",
      "           0       0.88      0.91      0.89      8177\n",
      "           1       0.90      0.88      0.89      8089\n",
      "\n",
      "    accuracy                           0.89     16266\n",
      "   macro avg       0.89      0.89      0.89     16266\n",
      "weighted avg       0.89      0.89      0.89     16266\n",
      "\n",
      "average precision score: 0.952\n",
      "roc_auc_score: 0.957\n",
      "precision-recall AUC: 0.952\n",
      "\n"
     ]
    },
    {
     "data": {
      "text/plain": [
       "<matplotlib.legend.Legend at 0x1a1ad0e390>"
      ]
     },
     "execution_count": 40,
     "metadata": {},
     "output_type": "execute_result"
    },
    {
     "data": {
      "image/png": "[encoded data removed]",
      "text/plain": [
       "<Figure size 432x288 with 1 Axes>"
      ]
     },
     "metadata": {
      "needs_background": "light"
     },
     "output_type": "display_data"
    },
    {
     "data": {
      "image/png": "[encoded data removed]",
      "text/plain": [
       "<Figure size 432x288 with 1 Axes>"
      ]
     },
     "metadata": {
      "needs_background": "light"
     },
     "output_type": "display_data"
    }
   ],
   "source": [
    "numeric_features = ['Dur', 'TotPkts', 'TotBytes']\n",
    "numeric_transformer = Pipeline(steps=[\n",
    "    ('imputer', SimpleImputer(strategy='median')),\n",
    "    ('scaler', StandardScaler())])\n",
    "\n",
    "\n",
    "categorical_features = ['Proto','Dir','State']\n",
    "categorical_transformer = Pipeline(steps=[\n",
    "    ('imputer', SimpleImputer(strategy='constant', fill_value='missing')),\n",
    "    ('onehot', OneHotEncoder(handle_unknown='ignore'))])\n",
    "\n",
    "preprocessor = ColumnTransformer(\n",
    "    transformers=[\n",
    "        ('num', numeric_transformer, numeric_features),\n",
    "        ('cat', categorical_transformer, categorical_features)])\n",
    "\n",
    "\n",
    "clf = Pipeline(steps=[('preprocessor', preprocessor),\n",
    "                      ('clf', None)])\n",
    "\n",
    "roc_things = []\n",
    "precision_recall_things = []\n",
    "\n",
    "X_train, X_test, y_train, y_test = train_test_split(X_res, y_res, test_size=.2, random_state=42)\n",
    "\n",
    "classifiers = [\n",
    "    LogisticRegression(),\n",
    "    RandomForestClassifier(min_samples_leaf = 10),\n",
    "    GradientBoostingClassifier()\n",
    "]\n",
    "\n",
    "for classifier in classifiers:\n",
    "    clf.set_params(clf=classifier).fit(X_train, y_train)\n",
    "    classifier_name = classifier.__class__.__name__\n",
    "    print(str(classifier_name))\n",
    "    print(\"model score: %.3f\\n\" % clf.score(X_test, y_test))\n",
    "\n",
    "    \n",
    "    y_score = clf.predict_proba(X_test)[:,1]\n",
    "    \n",
    "    y_pred = clf.predict(X_test)\n",
    "    \n",
    "    roc_auc = roc_auc_score(y_test, y_score)\n",
    "    fpr, tpr, _ = roc_curve(y_test, y_score)\n",
    "    roc_things.append((fpr, tpr, '{} AUC: {:.3f}'.format(classifier_name, roc_auc)))\n",
    "    \n",
    "    \n",
    "    titles_options = [(\"Confusion matrix, without normalization\", None),\n",
    "                  (\"Normalized confusion matrix\", 'true')]\n",
    "    for title, normalize in titles_options:\n",
    "        disp = plot_confusion_matrix(clf, X_test, y_test,\n",
    "                                     cmap=plt.cm.Blues,\n",
    "                                     normalize=normalize)\n",
    "        disp.ax_.set_title(title)\n",
    "\n",
    "        print(title)\n",
    "        print(disp.confusion_matrix)\n",
    "\n",
    "    plt.show()\n",
    "    \n",
    "    \n",
    "    print(classification_report(y_test, y_pred))\n",
    "    \n",
    "    precision, recall, thresholds = precision_recall_curve(y_test, y_score)\n",
    "    pr_auc = auc(recall, precision)\n",
    "    precision_recall_things.append((recall, precision, thresholds, '{} AUC: {:.3f}'.format(classifier_name, pr_auc)))\n",
    "    \n",
    "    \n",
    "    print('average precision score: {:.3f}'.format(average_precision_score(y_test, y_score)))\n",
    "    print('roc_auc_score: {:.3f}'.format(roc_auc))\n",
    "    print('precision-recall AUC: {:.3f}'.format(pr_auc))\n",
    "    print()\n",
    "    \n",
    "    with open('{}.pkl'.format(str(classifier_name)), 'wb') as f:\n",
    "        pkl.dump(clf, f)\n",
    "\n",
    "roc_plt = plt.figure()\n",
    "lw = 4\n",
    "for roc_thing in roc_things:\n",
    "    fpr, tpr, label = roc_thing\n",
    "    plt.plot(fpr, tpr, lw=lw, label=label)\n",
    "plt.plot([0, 1], [0, 1], color='navy', lw=lw, linestyle='--') # dadgum no-skill line\n",
    "plt.legend()\n",
    "plt.title('ROC curve')\n",
    "\n",
    "pr_plt = plt.figure()\n",
    "for pr_thing in precision_recall_things:\n",
    "    recall, precision, _, label = pr_thing\n",
    "    plt.plot(recall, precision, lw=lw, label=label)\n",
    "#ratio = y_test[y_test].shape[0] / y_test.shape[0]\n",
    "#plt.hlines(y=ratio, xmin=0, xmax=1, color='navy', lw=lw, linestyle='--') # dadgum no-skill line\n",
    "plt.title('Precision-recall plot')\n",
    "plt.legend()   "
   ]
  },
  {
   "cell_type": "markdown",
   "metadata": {},
   "source": [
    "# Threshold Stuffs"
   ]
  },
  {
   "cell_type": "code",
   "execution_count": 41,
   "metadata": {},
   "outputs": [
    {
     "name": "stdout",
     "output_type": "stream",
     "text": [
      "[0.04090884 0.04179758 0.04207685 0.04253636 0.04323174 0.04339177\n",
      " 0.04400551 0.04442568 0.04443531 0.04485484 0.0460312  0.04611922\n",
      " 0.04714755 0.04732812 0.04846119 0.0490837  0.04977452 0.04993259\n",
      " 0.05002572 0.05009039 0.05107403 0.05150154 0.05244624 0.05286562\n",
      " 0.05295369 0.05314798 0.05339621 0.0542039  0.05437816 0.05462328\n",
      " 0.05483885 0.0571864  0.05763628 0.05778008 0.05820086 0.05859577\n",
      " 0.05911535 0.05944124 0.06005761 0.0605974  0.06118084 0.06139305\n",
      " 0.06159724 0.06219954 0.06247082 0.06276261 0.06281116 0.06331091\n",
      " 0.06362628 0.06435717 0.06453757 0.06486673 0.06493231 0.06561088\n",
      " 0.06601429 0.06638497 0.06682007 0.06759813 0.06790919 0.06822216\n",
      " 0.06862352 0.06863451 0.06902512 0.06934358 0.06948704 0.070198\n",
      " 0.07080217 0.07091351 0.07119002 0.07144412 0.07181388 0.07197023\n",
      " 0.07209658 0.07258133 0.07281743 0.07304802 0.07320189 0.07410884\n",
      " 0.07425463 0.07441071 0.07447482 0.07486101 0.07543935 0.07603421\n",
      " 0.07862473 0.07896473 0.07906054 0.07906736 0.07939899 0.08062556\n",
      " 0.08119935 0.08136528 0.08250732 0.08291103 0.08309478 0.08333068\n",
      " 0.08352457 0.08368575 0.08374591 0.08425207 0.08441022 0.0848494\n",
      " 0.08501848 0.0850554  0.08524213 0.08571855 0.08621885 0.08625985\n",
      " 0.08676269 0.08694529 0.0881897  0.08846663 0.08876658 0.08919794\n",
      " 0.08925254 0.08953892 0.08957312 0.0899922  0.09015437 0.09063062\n",
      " 0.09066081 0.09111579 0.09133349 0.09211461 0.09244575 0.09273122\n",
      " 0.0930364  0.09435656 0.09459496 0.09464659 0.09496224 0.09528863\n",
      " 0.09550581 0.09572577 0.09591561 0.09615755 0.09653716 0.09747291\n",
      " 0.09753847 0.09763932 0.09815552 0.09819328 0.09883245 0.09902405\n",
      " 0.10061258 0.10079751 0.10080874 0.10095148 0.10098141 0.10147001\n",
      " 0.10207009 0.10207868 0.10214114 0.10226335 0.10259554 0.10307749\n",
      " 0.1033026  0.10333573 0.10535448 0.10618279 0.10618685 0.10713123\n",
      " 0.10743802 0.10798778 0.108079   0.10899695 0.10954433 0.10969344\n",
      " 0.10975232 0.10984194 0.11043347 0.11070898 0.11073311 0.11082456\n",
      " 0.11139316 0.11147474 0.11157442 0.11196873 0.11196994 0.11254738\n",
      " 0.11292189 0.11315754 0.11390918 0.1148584  0.11530814 0.11546611\n",
      " 0.11595465 0.11718741 0.11739731 0.11796396 0.11804293 0.11921002\n",
      " 0.11933978 0.11959534 0.11964499 0.11997369 0.12042525 0.12074282\n",
      " 0.12077558 0.12102389 0.1212219  0.12304013 0.12356006 0.1239367\n",
      " 0.12425576 0.12471173 0.12508935 0.12581067 0.12600927 0.12724839\n",
      " 0.12748543 0.12811559 0.12835848 0.12888219 0.12890452 0.12903356\n",
      " 0.12947382 0.12958529 0.13055628 0.13131191 0.13136893 0.13147678\n",
      " 0.13232788 0.13344149 0.13388192 0.13389556 0.13425433 0.13439705\n",
      " 0.13454903 0.13465908 0.13476824 0.13523574 0.13593516 0.13613295\n",
      " 0.13639727 0.13653523 0.13771418 0.13815328 0.13839485 0.13908997\n",
      " 0.14145714 0.14168181 0.14168703 0.14181339 0.14235083 0.14306792\n",
      " 0.14453317 0.14459201 0.1471445  0.14768749 0.14782809 0.1480918\n",
      " 0.14852925 0.14900155 0.14975002 0.14976096 0.15087671 0.1509514\n",
      " 0.15117451 0.15121376 0.15181017 0.15182729 0.15193046 0.15313265\n",
      " 0.15333471 0.15420141 0.1542721  0.15452068 0.15461534 0.15503678\n",
      " 0.15707993 0.15806095 0.15829915 0.15843355 0.15844408 0.15896216\n",
      " 0.15946835 0.16006671 0.16335837 0.16418099 0.1643751  0.16479442\n",
      " 0.16535904 0.16597754 0.16690056 0.1694005  0.16951934 0.16980711\n",
      " 0.1698742  0.17104235 0.17144296 0.17162251 0.17165984 0.17173177\n",
      " 0.17263895 0.17277347 0.17463332 0.17466772 0.17469371 0.17538426\n",
      " 0.17578657 0.1761859  0.17768277 0.17793347 0.1781916  0.17826948\n",
      " 0.17848523 0.17884962 0.18127085 0.1813285  0.18196818 0.1820051\n",
      " 0.18202346 0.18264562 0.18288619 0.18412058 0.18479291 0.1877216\n",
      " 0.18820661 0.18883534 0.1900223  0.19017887 0.19087034 0.19253393\n",
      " 0.19269884 0.19365241 0.19376296 0.19467238 0.19484544 0.19496226\n",
      " 0.1963617  0.19727764 0.19796624 0.1981294  0.1987956  0.19976017\n",
      " 0.19986883 0.20072829 0.20077766 0.20212628 0.20315524 0.20391939\n",
      " 0.20533653 0.20638249 0.20992548 0.2113046  0.21134776 0.2122582\n",
      " 0.21241409 0.21415646 0.2143945  0.21527391 0.21583625 0.21762238\n",
      " 0.21832702 0.218889   0.219198   0.21958057 0.22026976 0.22083193\n",
      " 0.22255026 0.22262919 0.22286861 0.22319149 0.22375034 0.22670467\n",
      " 0.22805636 0.22890843 0.22953036 0.23013802 0.23097045 0.23125185\n",
      " 0.23146442 0.23248123 0.23273719 0.23430953 0.23431808 0.23464132\n",
      " 0.23518241 0.23529603 0.23610333 0.23648422 0.2368108  0.23753689\n",
      " 0.2390497  0.23961    0.24012146 0.2420078  0.24317771 0.24322718\n",
      " 0.24412349 0.24555609 0.24581811 0.24600206 0.24632267 0.24805377\n",
      " 0.24876518 0.25106293 0.25130168 0.25164764 0.25242395 0.2528242\n",
      " 0.25358594 0.25383822 0.25507309 0.2551309  0.2556481  0.25723261\n",
      " 0.25864931 0.25873614 0.25948151 0.26053207 0.2623101  0.2640743\n",
      " 0.2654102  0.26651314 0.26683091 0.26767095 0.26809788 0.26810744\n",
      " 0.26835968 0.26836418 0.2688249  0.27060154 0.27074293 0.2709285\n",
      " 0.27097318 0.27102494 0.27143302 0.27147012 0.27174984 0.27228841\n",
      " 0.27308515 0.27388869 0.27497852 0.27500691 0.27633673 0.27819429\n",
      " 0.27890907 0.28003285 0.28222875 0.28243465 0.28434335 0.28534554\n",
      " 0.28613616 0.28626339 0.28636671 0.28699795 0.28774217 0.2881479\n",
      " 0.29041768 0.29053076 0.29080177 0.29084076 0.2916342  0.29259646\n",
      " 0.29314873 0.29574167 0.29652895 0.29709751 0.29714249 0.29979195\n",
      " 0.30113829 0.30418559 0.30418939 0.30440547 0.30516259 0.30545686\n",
      " 0.30572902 0.30579741 0.30699468 0.30749004 0.30841681 0.30897521\n",
      " 0.3106381  0.31106158 0.31108243 0.31138551 0.31159826 0.31646912\n",
      " 0.31743172 0.31764898 0.31946876 0.32017267 0.3203452  0.3205339\n",
      " 0.3213602  0.32212136 0.32483538 0.32499616 0.32912236 0.32974219\n",
      " 0.3303496  0.33154585 0.33212255 0.33430894 0.33550971 0.33690679\n",
      " 0.33969214 0.34054511 0.34056944 0.34078798 0.34110567 0.34981923\n",
      " 0.35048527 0.35195007 0.3523037  0.35234191 0.35264673 0.35272799\n",
      " 0.3531949  0.35923855 0.36020508 0.36460899 0.36614893 0.36770269\n",
      " 0.37458965 0.37773718 0.37893905 0.38050573 0.38311323 0.38467637\n",
      " 0.38603346 0.39258285 0.39407931 0.39468925 0.3964842  0.39800162\n",
      " 0.39962811 0.40099512 0.40373809 0.40497807 0.41000652 0.4104406\n",
      " 0.41659464 0.42505568 0.42969276 0.43160178 0.43508331 0.439923\n",
      " 0.44113067 0.44242714 0.44702565 0.45095335 0.45212787 0.45229027\n",
      " 0.45760183 0.45893273 0.47259866 0.47843382 0.48187897 0.4846482\n",
      " 0.48645906 0.49328091 0.5020828  0.51056622 0.51290204 0.51450443\n",
      " 0.52688147 0.52707051 0.5278763  0.53263622 0.53503358 0.53859998\n",
      " 0.54142416 0.5421223  0.55420527 0.55652981 0.56141867 0.56916577\n",
      " 0.57143032 0.57480479 0.57626178 0.57709616 0.58128685 0.58152822\n",
      " 0.58159304 0.58214533 0.58372662 0.59333074 0.59878544 0.6047317\n",
      " 0.60489461 0.60584226 0.60649094 0.60693116 0.60723356 0.60971002\n",
      " 0.61006545 0.61145617 0.61876776 0.62089945 0.62443048 0.62589146\n",
      " 0.62826467 0.63206538 0.63308898 0.63708301 0.64897268 0.65464043\n",
      " 0.65998927 0.6605762  0.67302368 0.68087558 0.68284918 0.69163993\n",
      " 0.69523349 0.70261695 0.70272317 0.70709785 0.70850387 0.71496952\n",
      " 0.71589831 0.72241458 0.72531227 0.72671205 0.73001493 0.73057804\n",
      " 0.73188933 0.73399465 0.73734101 0.73861214 0.73952158 0.74135647\n",
      " 0.74290986 0.74302205 0.75462422 0.75806195 0.75823223 0.75917308\n",
      " 0.75970771 0.76397315 0.76451937 0.76884725 0.76916296 0.77146446\n",
      " 0.77852446 0.77953851 0.78147723 0.78352989 0.79108311 0.79191514\n",
      " 0.79211216 0.79805618 0.79996818 0.80037379 0.80215345 0.80224151\n",
      " 0.80480496 0.80815034 0.8134808  0.81383018 0.81391912 0.81639849\n",
      " 0.81683945 0.81703222 0.81767834 0.82249475 0.82654667 0.82675682\n",
      " 0.83067263 0.8329077  0.83343609 0.83354443 0.83412029 0.83753655\n",
      " 0.83787555 0.8401294  0.84100412 0.84128794 0.84210855 0.84336167\n",
      " 0.84430663 0.84469331 0.84752611 0.84831872 0.84849432 0.84895286\n",
      " 0.8490252  0.85073135 0.85463513 0.85569893 0.85616391 0.85634985\n",
      " 0.85660497 0.85750907 0.85827029 0.85920109 0.85979726 0.860632\n",
      " 0.86070345 0.86282887 0.86328844 0.86534169 0.86587228 0.86674653\n",
      " 0.86782563 0.8678348  0.86820921 0.86869517 0.86890525 0.87205705\n",
      " 0.8731083  0.87311648 0.87491633 0.87495557 0.87496649 0.87501447\n",
      " 0.87580537 0.87724218 0.87757579 0.87776385 0.87852214 0.87865048\n",
      " 0.87985584 0.88129185 0.88134743 0.88161125 0.88170985 0.88173107\n",
      " 0.88182356 0.88342648 0.88435558 0.88463948 0.88490928 0.88506856\n",
      " 0.88532836 0.88616704 0.88701456 0.88750838 0.88796293 0.88804719\n",
      " 0.88831003 0.89072443 0.89083374 0.89087863 0.89099463 0.89132123\n",
      " 0.89208596 0.89213705 0.89240691 0.89407649 0.89415288 0.89423706\n",
      " 0.89433668 0.89438394 0.89488713 0.89571132 0.89646987 0.89710304\n",
      " 0.89734708 0.89753715 0.89755181 0.89789658 0.89828123 0.89834544\n",
      " 0.90043998 0.90117714 0.90284699 0.90295003 0.90303281 0.90414152\n",
      " 0.90501815 0.90590669 0.90629399 0.90703369 0.90729769 0.90753647\n",
      " 0.90773305 0.90847951 0.90887425 0.90931326 0.91020855 0.91024059\n",
      " 0.9104333  0.91128013 0.91173205 0.91193898 0.91250379 0.91328427\n",
      " 0.91379527 0.91415397 0.91423567 0.91437848 0.91465272 0.91470124\n",
      " 0.91522925 0.91535159 0.91652968 0.91665238 0.91672964 0.91673192\n",
      " 0.91732434 0.91742721 0.91784586 0.91939117 0.91952688 0.91983871\n",
      " 0.92085069 0.92128434 0.92164196 0.92219654 0.9226126  0.92373904\n",
      " 0.92381238 0.92420049 0.92667613 0.92668947 0.9270269  0.92834411\n",
      " 0.92859195 0.92885145 0.92908093 0.9291305  0.92950933 0.92978041\n",
      " 0.93041982 0.93106071 0.9315465  0.93173499 0.93278985 0.93364597\n",
      " 0.93367157 0.93385786 0.93416209 0.93497446 0.93507052 0.93618029\n",
      " 0.93675459 0.93698125 0.93891617 0.93948125 0.93957805 0.94003723\n",
      " 0.94095281 0.94122842 0.94146553 0.94155417 0.94158876 0.94182977\n",
      " 0.94230955 0.94245108 0.94271403 0.94272016 0.94315081 0.94322827\n",
      " 0.94345554 0.94423978 0.94444013 0.94474982 0.94501287 0.94541509\n",
      " 0.94568326 0.94591439 0.94674327 0.94698624 0.9473379  0.94749241\n",
      " 0.94771682 0.94783713 0.94806284 0.94811756 0.94853325 0.94892796\n",
      " 0.94972166 0.95008574 0.95023938 0.950647   0.95186773 0.95280711\n",
      " 0.95340479 0.95346682 0.95447091 0.95461662 0.95482235 0.95504155\n",
      " 0.95546541 0.95634035 0.95640674 0.95717758 0.95722352 0.95846567\n",
      " 0.95869286 0.95888734 0.95962042 0.95966076 0.96025982 0.96051651\n",
      " 0.96123358 0.96417509 0.96556447 0.96576541 0.96826309 0.96995788\n",
      " 0.97097377 0.97265049 0.97422129 0.97626425 0.97934216]\n"
     ]
    }
   ],
   "source": [
    "print(thresholds)"
   ]
  },
  {
   "cell_type": "code",
   "execution_count": 42,
   "metadata": {},
   "outputs": [],
   "source": [
    "precision, recall, thresholds_2 = precision_recall_curve(y_test, y_score)\n",
    "\n",
    "a = np.column_stack((recall,precision))\n",
    "\n",
    "a = ma.masked_less_equal(a,0)\n",
    "a = ma.mask_rows(a)\n",
    "f1 = hmean(a,axis=1)"
   ]
  },
  {
   "cell_type": "code",
   "execution_count": 43,
   "metadata": {},
   "outputs": [
    {
     "name": "stdout",
     "output_type": "stream",
     "text": [
      "f1 optimizing threshold: 0.32136020299519813\n"
     ]
    }
   ],
   "source": [
    "threshold_maximizing_F1 = thresholds[np.argmax(f1)]\n",
    "print('f1 optimizing threshold: {}'.format(threshold_maximizing_F1))"
   ]
  },
  {
   "cell_type": "code",
   "execution_count": null,
   "metadata": {},
   "outputs": [],
   "source": []
  }
 ],
 "metadata": {
  "kernelspec": {
   "display_name": "Python 3",
   "language": "python",
   "name": "python3"
  },
  "language_info": {
   "codemirror_mode": {
    "name": "ipython",
    "version": 3
   },
   "file_extension": ".py",
   "mimetype": "text/x-python",
   "name": "python",
   "nbconvert_exporter": "python",
   "pygments_lexer": "ipython3",
   "version": "3.7.4"
  }
 },
 "nbformat": 4,
 "nbformat_minor": 2
}
