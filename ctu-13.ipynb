{
 "cells": [
  {
   "cell_type": "code",
   "execution_count": 24,
   "metadata": {},
   "outputs": [
    {
     "name": "stdout",
     "output_type": "stream",
     "text": [
      "The nltk version is 3.4.5.\n",
      "The scikit-learn version is 0.22.2.\n"
     ]
    }
   ],
   "source": [
    "import nltk\n",
    "import sklearn\n",
    "\n",
    "print('The nltk version is {}.'.format(nltk.__version__))\n",
    "print('The scikit-learn version is {}.'.format(sklearn.__version__))"
   ]
  },
  {
   "cell_type": "code",
   "execution_count": 2,
   "metadata": {},
   "outputs": [],
   "source": [
    "import pandas as pd\n",
    "import numpy as np\n",
    "import numpy.ma as ma\n",
    "import pickle as pkl\n",
    "import matplotlib.pyplot as plt\n",
    "from sklearn.model_selection import train_test_split\n",
    "from sklearn.preprocessing import StandardScaler, OneHotEncoder\n",
    "from sklearn.pipeline import Pipeline\n",
    "from sklearn.impute import SimpleImputer\n",
    "from sklearn.compose import ColumnTransformer\n",
    "from sklearn.linear_model import LogisticRegression\n",
    "from sklearn.tree import DecisionTreeClassifier\n",
    "from sklearn.ensemble import RandomForestClassifier\n",
    "from sklearn.ensemble import GradientBoostingClassifier\n",
    "from sklearn.metrics import classification_report, confusion_matrix, plot_confusion_matrix\n",
    "from sklearn.metrics import precision_recall_curve\n",
    "from sklearn.metrics import plot_precision_recall_curve\n",
    "from sklearn.metrics import average_precision_score\n",
    "from sklearn.metrics import log_loss\n",
    "from sklearn.metrics import roc_auc_score, roc_curve, auc\n",
    "from sklearn.ensemble import GradientBoostingClassifier\n",
    "from imblearn.over_sampling import SMOTENC\n",
    "from imblearn.under_sampling import RandomUnderSampler\n",
    "from imblearn.under_sampling import CondensedNearestNeighbour\n",
    "from collections import Counter\n",
    "from scipy.stats import hmean\n",
    "\n",
    "\n",
    "\n",
    "filename = 'capture20110810.binetflow'\n",
    "try:\n",
    "    # try to load the file from a local directory\n",
    "    data = pd.read_csv(filename)\n",
    "    pass\n",
    "except:\n",
    "    # fetch it from the url\n",
    "    data = pd.read_csv('https://mcfp.felk.cvut.cz/publicDatasets/CTU-Malware-Capture-Botnet-42/detailed-bidirectional-flow-labels/{}'.format(filename))\n",
    "    data.to_csv(filename)\n",
    "    pass"
   ]
  },
  {
   "cell_type": "code",
   "execution_count": 3,
   "metadata": {},
   "outputs": [
    {
     "data": {
      "text/html": [
       "<div>\n",
       "<style scoped>\n",
       "    .dataframe tbody tr th:only-of-type {\n",
       "        vertical-align: middle;\n",
       "    }\n",
       "\n",
       "    .dataframe tbody tr th {\n",
       "        vertical-align: top;\n",
       "    }\n",
       "\n",
       "    .dataframe thead th {\n",
       "        text-align: right;\n",
       "    }\n",
       "</style>\n",
       "<table border=\"1\" class=\"dataframe\">\n",
       "  <thead>\n",
       "    <tr style=\"text-align: right;\">\n",
       "      <th></th>\n",
       "      <th>StartTime</th>\n",
       "      <th>Dur</th>\n",
       "      <th>Proto</th>\n",
       "      <th>SrcAddr</th>\n",
       "      <th>Sport</th>\n",
       "      <th>Dir</th>\n",
       "      <th>DstAddr</th>\n",
       "      <th>Dport</th>\n",
       "      <th>State</th>\n",
       "      <th>sTos</th>\n",
       "      <th>dTos</th>\n",
       "      <th>TotPkts</th>\n",
       "      <th>TotBytes</th>\n",
       "      <th>SrcBytes</th>\n",
       "      <th>Label</th>\n",
       "    </tr>\n",
       "  </thead>\n",
       "  <tbody>\n",
       "    <tr>\n",
       "      <th>0</th>\n",
       "      <td>2011/08/10 09:46:53.047277</td>\n",
       "      <td>3550.182373</td>\n",
       "      <td>udp</td>\n",
       "      <td>212.50.71.179</td>\n",
       "      <td>39678</td>\n",
       "      <td>&lt;-&gt;</td>\n",
       "      <td>147.32.84.229</td>\n",
       "      <td>13363</td>\n",
       "      <td>CON</td>\n",
       "      <td>0.0</td>\n",
       "      <td>0.0</td>\n",
       "      <td>12</td>\n",
       "      <td>875</td>\n",
       "      <td>413</td>\n",
       "      <td>flow=Background-UDP-Established</td>\n",
       "    </tr>\n",
       "    <tr>\n",
       "      <th>1</th>\n",
       "      <td>2011/08/10 09:46:53.048843</td>\n",
       "      <td>0.000883</td>\n",
       "      <td>udp</td>\n",
       "      <td>84.13.246.132</td>\n",
       "      <td>28431</td>\n",
       "      <td>&lt;-&gt;</td>\n",
       "      <td>147.32.84.229</td>\n",
       "      <td>13363</td>\n",
       "      <td>CON</td>\n",
       "      <td>0.0</td>\n",
       "      <td>0.0</td>\n",
       "      <td>2</td>\n",
       "      <td>135</td>\n",
       "      <td>75</td>\n",
       "      <td>flow=Background-UDP-Established</td>\n",
       "    </tr>\n",
       "    <tr>\n",
       "      <th>2</th>\n",
       "      <td>2011/08/10 09:46:53.049895</td>\n",
       "      <td>0.000326</td>\n",
       "      <td>tcp</td>\n",
       "      <td>217.163.21.35</td>\n",
       "      <td>80</td>\n",
       "      <td>&lt;?&gt;</td>\n",
       "      <td>147.32.86.194</td>\n",
       "      <td>2063</td>\n",
       "      <td>FA_A</td>\n",
       "      <td>0.0</td>\n",
       "      <td>0.0</td>\n",
       "      <td>2</td>\n",
       "      <td>120</td>\n",
       "      <td>60</td>\n",
       "      <td>flow=Background</td>\n",
       "    </tr>\n",
       "    <tr>\n",
       "      <th>3</th>\n",
       "      <td>2011/08/10 09:46:53.053771</td>\n",
       "      <td>0.056966</td>\n",
       "      <td>tcp</td>\n",
       "      <td>83.3.77.74</td>\n",
       "      <td>32882</td>\n",
       "      <td>&lt;?&gt;</td>\n",
       "      <td>147.32.85.5</td>\n",
       "      <td>21857</td>\n",
       "      <td>FA_FA</td>\n",
       "      <td>0.0</td>\n",
       "      <td>0.0</td>\n",
       "      <td>3</td>\n",
       "      <td>180</td>\n",
       "      <td>120</td>\n",
       "      <td>flow=Background</td>\n",
       "    </tr>\n",
       "    <tr>\n",
       "      <th>4</th>\n",
       "      <td>2011/08/10 09:46:53.053937</td>\n",
       "      <td>3427.768066</td>\n",
       "      <td>udp</td>\n",
       "      <td>74.89.223.204</td>\n",
       "      <td>21278</td>\n",
       "      <td>&lt;-&gt;</td>\n",
       "      <td>147.32.84.229</td>\n",
       "      <td>13363</td>\n",
       "      <td>CON</td>\n",
       "      <td>0.0</td>\n",
       "      <td>0.0</td>\n",
       "      <td>42</td>\n",
       "      <td>2856</td>\n",
       "      <td>1596</td>\n",
       "      <td>flow=Background-UDP-Established</td>\n",
       "    </tr>\n",
       "  </tbody>\n",
       "</table>\n",
       "</div>"
      ],
      "text/plain": [
       "                    StartTime          Dur Proto        SrcAddr  Sport    Dir  \\\n",
       "0  2011/08/10 09:46:53.047277  3550.182373   udp  212.50.71.179  39678    <->   \n",
       "1  2011/08/10 09:46:53.048843     0.000883   udp  84.13.246.132  28431    <->   \n",
       "2  2011/08/10 09:46:53.049895     0.000326   tcp  217.163.21.35     80    <?>   \n",
       "3  2011/08/10 09:46:53.053771     0.056966   tcp     83.3.77.74  32882    <?>   \n",
       "4  2011/08/10 09:46:53.053937  3427.768066   udp  74.89.223.204  21278    <->   \n",
       "\n",
       "         DstAddr  Dport  State  sTos  dTos  TotPkts  TotBytes  SrcBytes  \\\n",
       "0  147.32.84.229  13363    CON   0.0   0.0       12       875       413   \n",
       "1  147.32.84.229  13363    CON   0.0   0.0        2       135        75   \n",
       "2  147.32.86.194   2063   FA_A   0.0   0.0        2       120        60   \n",
       "3    147.32.85.5  21857  FA_FA   0.0   0.0        3       180       120   \n",
       "4  147.32.84.229  13363    CON   0.0   0.0       42      2856      1596   \n",
       "\n",
       "                             Label  \n",
       "0  flow=Background-UDP-Established  \n",
       "1  flow=Background-UDP-Established  \n",
       "2                  flow=Background  \n",
       "3                  flow=Background  \n",
       "4  flow=Background-UDP-Established  "
      ]
     },
     "execution_count": 3,
     "metadata": {},
     "output_type": "execute_result"
    }
   ],
   "source": [
    "data.head()"
   ]
  },
  {
   "cell_type": "code",
   "execution_count": 4,
   "metadata": {},
   "outputs": [],
   "source": [
    "data['Target'] = data['Label'].str.startswith('flow=From-Botnet').astype(int)"
   ]
  },
  {
   "cell_type": "code",
   "execution_count": 5,
   "metadata": {},
   "outputs": [],
   "source": [
    "targetno = data[data['Target']==0]"
   ]
  },
  {
   "cell_type": "code",
   "execution_count": 6,
   "metadata": {},
   "outputs": [],
   "source": [
    "targetyes = data[data['Target']==1]"
   ]
  },
  {
   "cell_type": "code",
   "execution_count": 7,
   "metadata": {
    "scrolled": true
   },
   "outputs": [
    {
     "name": "stdout",
     "output_type": "stream",
     "text": [
      "Percent Minority 1.450134\n"
     ]
    }
   ],
   "source": [
    "print('Percent Minority %f' % ((sum(data['Target'])/len(data['Target']))*100))"
   ]
  },
  {
   "cell_type": "code",
   "execution_count": 8,
   "metadata": {},
   "outputs": [
    {
     "data": {
      "text/plain": [
       "(2783675, 16)"
      ]
     },
     "execution_count": 8,
     "metadata": {},
     "output_type": "execute_result"
    }
   ],
   "source": [
    "targetno.shape"
   ]
  },
  {
   "cell_type": "markdown",
   "metadata": {},
   "source": [
    "# Smote takes too long with categoricals, so I manaully resampled due to computing power restrictions"
   ]
  },
  {
   "cell_type": "code",
   "execution_count": 9,
   "metadata": {},
   "outputs": [],
   "source": [
    "drop_indices = np.random.choice(targetno.index, 2740000, replace=False)\n",
    "targetno_new = targetno.drop(drop_indices)"
   ]
  },
  {
   "cell_type": "code",
   "execution_count": 10,
   "metadata": {},
   "outputs": [],
   "source": [
    "net_flows_new = targetno_new.append(targetyes)"
   ]
  },
  {
   "cell_type": "code",
   "execution_count": 11,
   "metadata": {
    "scrolled": true
   },
   "outputs": [
    {
     "name": "stdout",
     "output_type": "stream",
     "text": [
      "Percent Minority 48.396663\n"
     ]
    }
   ],
   "source": [
    "print('Percent Minority %f' % ((sum(net_flows_new['Target'])/len(net_flows_new['Target']))*100))"
   ]
  },
  {
   "cell_type": "code",
   "execution_count": 12,
   "metadata": {},
   "outputs": [],
   "source": [
    "net_flows = net_flows_new.dropna()\n",
    "X = net_flows.iloc[:,0:14]\n",
    "y = net_flows['Target']"
   ]
  },
  {
   "cell_type": "code",
   "execution_count": 13,
   "metadata": {},
   "outputs": [
    {
     "name": "stdout",
     "output_type": "stream",
     "text": [
      "Percent Minority 40.868933\n"
     ]
    }
   ],
   "source": [
    "print('Percent Minority %f' % ((sum(y)/len(y))*100))"
   ]
  },
  {
   "cell_type": "markdown",
   "metadata": {},
   "source": [
    "# Actually fitting smote"
   ]
  },
  {
   "cell_type": "code",
   "execution_count": 14,
   "metadata": {},
   "outputs": [],
   "source": [
    "categorics = ['StartTime', 'Proto', 'SrcAddr', 'Sport', 'Dir', 'DstAddr', 'Dport', 'State']"
   ]
  },
  {
   "cell_type": "code",
   "execution_count": 15,
   "metadata": {},
   "outputs": [],
   "source": [
    "cat_index = [net_flows.columns.get_loc(c) for c in categorics if c in X]"
   ]
  },
  {
   "cell_type": "code",
   "execution_count": 16,
   "metadata": {},
   "outputs": [],
   "source": [
    "sm = SMOTENC(random_state = 42, categorical_features=[0, 2, 3, 4, 5, 6, 7, 8])"
   ]
  },
  {
   "cell_type": "code",
   "execution_count": 17,
   "metadata": {},
   "outputs": [],
   "source": [
    "X_res, y_res = sm.fit_resample(X, y)"
   ]
  },
  {
   "cell_type": "code",
   "execution_count": 18,
   "metadata": {},
   "outputs": [
    {
     "name": "stdout",
     "output_type": "stream",
     "text": [
      "Percent Minority 50.000000\n"
     ]
    }
   ],
   "source": [
    "print('Percent Minority %f' % ((sum(y_res)/len(y_res))*100))"
   ]
  },
  {
   "cell_type": "markdown",
   "metadata": {},
   "source": [
    "# AAAANNNNDDD we're at a balanced dataset now"
   ]
  },
  {
   "cell_type": "code",
   "execution_count": 28,
   "metadata": {},
   "outputs": [
    {
     "data": {
      "text/plain": [
       "(68820, 14)"
      ]
     },
     "execution_count": 28,
     "metadata": {},
     "output_type": "execute_result"
    }
   ],
   "source": [
    "X.shape"
   ]
  },
  {
   "cell_type": "code",
   "execution_count": 19,
   "metadata": {},
   "outputs": [
    {
     "data": {
      "text/plain": [
       "(81388, 14)"
      ]
     },
     "execution_count": 19,
     "metadata": {},
     "output_type": "execute_result"
    }
   ],
   "source": [
    "X_res.shape"
   ]
  },
  {
   "cell_type": "code",
   "execution_count": 20,
   "metadata": {
    "scrolled": false
   },
   "outputs": [
    {
     "name": "stderr",
     "output_type": "stream",
     "text": [
      "/opt/anaconda3/lib/python3.7/site-packages/sklearn/linear_model/_logistic.py:940: ConvergenceWarning: lbfgs failed to converge (status=1):\n",
      "STOP: TOTAL NO. of ITERATIONS REACHED LIMIT.\n",
      "\n",
      "Increase the number of iterations (max_iter) or scale the data as shown in:\n",
      "    https://scikit-learn.org/stable/modules/preprocessing.html\n",
      "Please also refer to the documentation for alternative solver options:\n",
      "    https://scikit-learn.org/stable/modules/linear_model.html#logistic-regression\n",
      "  extra_warning_msg=_LOGISTIC_SOLVER_CONVERGENCE_MSG)\n"
     ]
    },
    {
     "name": "stdout",
     "output_type": "stream",
     "text": [
      "LogisticRegression\n",
      "model score: 0.638\n",
      "\n",
      "Confusion matrix, without normalization\n",
      "[[2673 5476]\n",
      " [ 420 7709]]\n",
      "Normalized confusion matrix\n",
      "[[0.32801571 0.67198429]\n",
      " [0.05166687 0.94833313]]\n"
     ]
    },
    {
     "data": {
      "image/png": "[encoded data removed]",
      "text/plain": [
       "<Figure size 432x288 with 2 Axes>"
      ]
     },
     "metadata": {
      "needs_background": "light"
     },
     "output_type": "display_data"
    },
    {
     "data": {
      "image/png": "[encoded data removed]",
      "text/plain": [
       "<Figure size 432x288 with 2 Axes>"
      ]
     },
     "metadata": {
      "needs_background": "light"
     },
     "output_type": "display_data"
    },
    {
     "name": "stdout",
     "output_type": "stream",
     "text": [
      "              precision    recall  f1-score   support\n",
      "\n",
      "           0       0.86      0.33      0.48      8149\n",
      "           1       0.58      0.95      0.72      8129\n",
      "\n",
      "    accuracy                           0.64     16278\n",
      "   macro avg       0.72      0.64      0.60     16278\n",
      "weighted avg       0.72      0.64      0.60     16278\n",
      "\n",
      "average precision score: 0.493\n",
      "roc_auc_score: 0.546\n",
      "precision-recall AUC: 0.493\n",
      "\n",
      "RandomForestClassifier\n",
      "model score: 0.887\n",
      "\n",
      "Confusion matrix, without normalization\n",
      "[[7721  428]\n",
      " [1405 6724]]\n",
      "Normalized confusion matrix\n",
      "[[0.94747822 0.05252178]\n",
      " [0.17283799 0.82716201]]\n"
     ]
    },
    {
     "data": {
      "image/png": "[encoded data removed]",
      "text/plain": [
       "<Figure size 432x288 with 2 Axes>"
      ]
     },
     "metadata": {
      "needs_background": "light"
     },
     "output_type": "display_data"
    },
    {
     "data": {
      "image/png": "[encoded data removed]",
      "text/plain": [
       "<Figure size 432x288 with 2 Axes>"
      ]
     },
     "metadata": {
      "needs_background": "light"
     },
     "output_type": "display_data"
    },
    {
     "name": "stdout",
     "output_type": "stream",
     "text": [
      "              precision    recall  f1-score   support\n",
      "\n",
      "           0       0.85      0.95      0.89      8149\n",
      "           1       0.94      0.83      0.88      8129\n",
      "\n",
      "    accuracy                           0.89     16278\n",
      "   macro avg       0.89      0.89      0.89     16278\n",
      "weighted avg       0.89      0.89      0.89     16278\n",
      "\n",
      "average precision score: 0.967\n",
      "roc_auc_score: 0.968\n",
      "precision-recall AUC: 0.967\n",
      "\n",
      "GradientBoostingClassifier\n",
      "model score: 0.890\n",
      "\n",
      "Confusion matrix, without normalization\n",
      "[[7354  795]\n",
      " [1003 7126]]\n",
      "Normalized confusion matrix\n",
      "[[0.90244202 0.09755798]\n",
      " [0.12338541 0.87661459]]\n"
     ]
    },
    {
     "data": {
      "image/png": "[encoded data removed]",
      "text/plain": [
       "<Figure size 432x288 with 2 Axes>"
      ]
     },
     "metadata": {
      "needs_background": "light"
     },
     "output_type": "display_data"
    },
    {
     "data": {
      "image/png": "[encoded data removed]",
      "text/plain": [
       "<Figure size 432x288 with 2 Axes>"
      ]
     },
     "metadata": {
      "needs_background": "light"
     },
     "output_type": "display_data"
    },
    {
     "name": "stdout",
     "output_type": "stream",
     "text": [
      "              precision    recall  f1-score   support\n",
      "\n",
      "           0       0.88      0.90      0.89      8149\n",
      "           1       0.90      0.88      0.89      8129\n",
      "\n",
      "    accuracy                           0.89     16278\n",
      "   macro avg       0.89      0.89      0.89     16278\n",
      "weighted avg       0.89      0.89      0.89     16278\n",
      "\n",
      "average precision score: 0.952\n",
      "roc_auc_score: 0.956\n",
      "precision-recall AUC: 0.953\n",
      "\n"
     ]
    },
    {
     "data": {
      "text/plain": [
       "<matplotlib.legend.Legend at 0x1a216f2490>"
      ]
     },
     "execution_count": 20,
     "metadata": {},
     "output_type": "execute_result"
    },
    {
     "data": {
      "image/png": "[encoded data removed]",
      "text/plain": [
       "<Figure size 432x288 with 1 Axes>"
      ]
     },
     "metadata": {
      "needs_background": "light"
     },
     "output_type": "display_data"
    },
    {
     "data": {
      "image/png": "[encoded data removed]",
      "text/plain": [
       "<Figure size 432x288 with 1 Axes>"
      ]
     },
     "metadata": {
      "needs_background": "light"
     },
     "output_type": "display_data"
    }
   ],
   "source": [
    "numeric_features = ['Dur', 'TotPkts', 'TotBytes']\n",
    "numeric_transformer = Pipeline(steps=[\n",
    "    ('imputer', SimpleImputer(strategy='median')),\n",
    "    ('scaler', StandardScaler())])\n",
    "\n",
    "\n",
    "categorical_features = ['Proto','Dir','State']\n",
    "categorical_transformer = Pipeline(steps=[\n",
    "    ('imputer', SimpleImputer(strategy='constant', fill_value='missing')),\n",
    "    ('onehot', OneHotEncoder(handle_unknown='ignore'))])\n",
    "\n",
    "preprocessor = ColumnTransformer(\n",
    "    transformers=[\n",
    "        ('num', numeric_transformer, numeric_features),\n",
    "        ('cat', categorical_transformer, categorical_features)])\n",
    "\n",
    "\n",
    "clf = Pipeline(steps=[('preprocessor', preprocessor),\n",
    "                      ('clf', None)])\n",
    "\n",
    "roc_things = []\n",
    "precision_recall_things = []\n",
    "\n",
    "X_train, X_test, y_train, y_test = train_test_split(X_res, y_res, test_size=.2, random_state=42)\n",
    "\n",
    "classifiers = [\n",
    "    LogisticRegression(),\n",
    "    RandomForestClassifier(min_samples_leaf = 10),\n",
    "    GradientBoostingClassifier()\n",
    "]\n",
    "\n",
    "for classifier in classifiers:\n",
    "    clf.set_params(clf=classifier).fit(X_train, y_train)\n",
    "    classifier_name = classifier.__class__.__name__\n",
    "    print(str(classifier_name))\n",
    "    print(\"model score: %.3f\\n\" % clf.score(X_test, y_test))\n",
    "\n",
    "    \n",
    "    y_score = clf.predict_proba(X_test)[:,1]\n",
    "    \n",
    "    y_pred = clf.predict(X_test)\n",
    "    \n",
    "    roc_auc = roc_auc_score(y_test, y_score)\n",
    "    fpr, tpr, _ = roc_curve(y_test, y_score)\n",
    "    roc_things.append((fpr, tpr, '{} AUC: {:.3f}'.format(classifier_name, roc_auc)))\n",
    "    \n",
    "    \n",
    "    titles_options = [(\"Confusion matrix, without normalization\", None),\n",
    "                  (\"Normalized confusion matrix\", 'true')]\n",
    "    for title, normalize in titles_options:\n",
    "        disp = plot_confusion_matrix(clf, X_test, y_test,\n",
    "                                     cmap=plt.cm.Blues,\n",
    "                                     normalize=normalize)\n",
    "        disp.ax_.set_title(title)\n",
    "\n",
    "        print(title)\n",
    "        print(disp.confusion_matrix)\n",
    "\n",
    "    plt.show()\n",
    "    \n",
    "    \n",
    "    print(classification_report(y_test, y_pred))\n",
    "    \n",
    "    precision, recall, thresholds = precision_recall_curve(y_test, y_score)\n",
    "    pr_auc = auc(recall, precision)\n",
    "    precision_recall_things.append((recall, precision, thresholds, '{} AUC: {:.3f}'.format(classifier_name, pr_auc)))\n",
    "    \n",
    "    \n",
    "    print('average precision score: {:.3f}'.format(average_precision_score(y_test, y_score)))\n",
    "    print('roc_auc_score: {:.3f}'.format(roc_auc))\n",
    "    print('precision-recall AUC: {:.3f}'.format(pr_auc))\n",
    "    print()\n",
    "    \n",
    "    with open('{}.pkl'.format(str(classifier_name)), 'wb') as f:\n",
    "        pkl.dump(clf, f)\n",
    "\n",
    "roc_plt = plt.figure()\n",
    "lw = 4\n",
    "for roc_thing in roc_things:\n",
    "    fpr, tpr, label = roc_thing\n",
    "    plt.plot(fpr, tpr, lw=lw, label=label)\n",
    "plt.plot([0, 1], [0, 1], color='navy', lw=lw, linestyle='--') # dadgum no-skill line\n",
    "plt.legend()\n",
    "plt.title('ROC curve')\n",
    "\n",
    "pr_plt = plt.figure()\n",
    "for pr_thing in precision_recall_things:\n",
    "    recall, precision, _, label = pr_thing\n",
    "    plt.plot(recall, precision, lw=lw, label=label)\n",
    "#ratio = y_test[y_test].shape[0] / y_test.shape[0]\n",
    "#plt.hlines(y=ratio, xmin=0, xmax=1, color='navy', lw=lw, linestyle='--') # dadgum no-skill line\n",
    "plt.title('Precision-recall plot')\n",
    "plt.legend()   "
   ]
  },
  {
   "cell_type": "markdown",
   "metadata": {},
   "source": [
    "# Threshold Stuffs"
   ]
  },
  {
   "cell_type": "code",
   "execution_count": 21,
   "metadata": {},
   "outputs": [
    {
     "name": "stdout",
     "output_type": "stream",
     "text": [
      "[0.02965799 0.02984897 0.03057726 0.03097229 0.03299531 0.03390803\n",
      " 0.03440783 0.03492461 0.03517857 0.03563608 0.03581595 0.03582538\n",
      " 0.03598095 0.03599154 0.03943491 0.03988121 0.0404493  0.04045635\n",
      " 0.04166786 0.042026   0.04416702 0.04531341 0.04579514 0.04632329\n",
      " 0.047138   0.0473118  0.04732453 0.04911697 0.04926346 0.04930595\n",
      " 0.04975449 0.0510767  0.05145336 0.05203717 0.05249859 0.05256322\n",
      " 0.05275803 0.0527986  0.05311228 0.05412132 0.05417404 0.05429069\n",
      " 0.05488813 0.05505536 0.05506956 0.05518984 0.05576408 0.05623045\n",
      " 0.05657929 0.05672718 0.05681486 0.05702947 0.05720118 0.0575788\n",
      " 0.05780413 0.05888786 0.05907978 0.05916138 0.05969192 0.06004252\n",
      " 0.06033386 0.06116217 0.06116584 0.06127797 0.06131428 0.06226358\n",
      " 0.06343137 0.06368006 0.06443472 0.06506423 0.06544649 0.06583726\n",
      " 0.06692913 0.06716471 0.06720212 0.06776414 0.06789235 0.06830453\n",
      " 0.06845281 0.06882838 0.06915494 0.06919071 0.06947938 0.07124672\n",
      " 0.07143499 0.07167077 0.07169458 0.07171275 0.0718743  0.07188732\n",
      " 0.07224857 0.07238939 0.07255739 0.07324374 0.0734939  0.07395751\n",
      " 0.07444752 0.07633578 0.07663351 0.07678834 0.07681774 0.07704211\n",
      " 0.07744886 0.0777818  0.07829243 0.07832827 0.07885076 0.07947762\n",
      " 0.07949759 0.07963442 0.07969404 0.08036538 0.08050151 0.08066434\n",
      " 0.08076385 0.08229567 0.08473321 0.0849336  0.08544852 0.08585271\n",
      " 0.08586126 0.08587299 0.08589757 0.08591597 0.0859374  0.0871109\n",
      " 0.0880461  0.08859365 0.0894055  0.09070442 0.09078989 0.09084889\n",
      " 0.09102576 0.09164912 0.09169858 0.0920011  0.09210574 0.09283293\n",
      " 0.09332165 0.09393852 0.09525185 0.09542071 0.09548602 0.09559468\n",
      " 0.09566038 0.09593934 0.09612874 0.09615588 0.09750832 0.09765994\n",
      " 0.09766905 0.09776642 0.09779049 0.09794509 0.09848174 0.09862994\n",
      " 0.09877897 0.09944715 0.09964275 0.10035883 0.10044488 0.10300384\n",
      " 0.10334786 0.10348092 0.10368319 0.10370855 0.10413096 0.10444065\n",
      " 0.10475789 0.10484389 0.10530436 0.10566954 0.1058429  0.10600686\n",
      " 0.10731714 0.10731762 0.10795877 0.10804529 0.10807513 0.10824786\n",
      " 0.10881679 0.10910397 0.10926681 0.10965139 0.11072587 0.11090729\n",
      " 0.11154432 0.1119356  0.11196273 0.11284625 0.11410684 0.11440022\n",
      " 0.1144927  0.11499902 0.1152111  0.11573445 0.11603171 0.11661495\n",
      " 0.11776382 0.11802995 0.11874866 0.11886925 0.11890718 0.11900656\n",
      " 0.11993276 0.12023861 0.12081174 0.12088895 0.12091796 0.12094382\n",
      " 0.12115866 0.12211378 0.12230409 0.12368227 0.12378662 0.12385108\n",
      " 0.12392751 0.12402697 0.12499152 0.12603759 0.12776505 0.12861035\n",
      " 0.12871462 0.13004516 0.13179759 0.13268343 0.1327133  0.13282544\n",
      " 0.13285249 0.13285445 0.13312118 0.13341764 0.13452292 0.13489765\n",
      " 0.13542804 0.13548559 0.13557821 0.13584488 0.13627093 0.13668716\n",
      " 0.13684123 0.13722288 0.13737391 0.13877144 0.13928587 0.13946476\n",
      " 0.13946924 0.13959256 0.14016444 0.1434837  0.14369697 0.14373056\n",
      " 0.1439619  0.14442856 0.14474533 0.14579284 0.14648434 0.14650487\n",
      " 0.14712669 0.14747541 0.14800963 0.14804405 0.14830373 0.14857595\n",
      " 0.14962625 0.15009299 0.15153936 0.15188597 0.15298174 0.15389751\n",
      " 0.15410188 0.15619999 0.15687343 0.15689669 0.15712758 0.15743412\n",
      " 0.15885281 0.15954725 0.16029992 0.16114942 0.16188235 0.162049\n",
      " 0.16261882 0.16266099 0.16400821 0.16466001 0.16481619 0.16652065\n",
      " 0.16784572 0.16920033 0.16957516 0.16991945 0.17072646 0.17074283\n",
      " 0.17085137 0.17133052 0.17184626 0.17228705 0.17266574 0.17391259\n",
      " 0.17446126 0.17449649 0.1749794  0.17545783 0.17744048 0.17767658\n",
      " 0.17831255 0.17858383 0.17889266 0.17973549 0.1799368  0.18016838\n",
      " 0.18102772 0.18103849 0.18139626 0.18147409 0.18201257 0.18417762\n",
      " 0.18428926 0.18485316 0.18513679 0.18626335 0.18876963 0.1894913\n",
      " 0.19014242 0.19081797 0.19151999 0.19171046 0.19183799 0.19190771\n",
      " 0.19202257 0.19219695 0.19235358 0.19262348 0.19267497 0.1934597\n",
      " 0.19494379 0.19556698 0.19643431 0.19848447 0.2004029  0.20111701\n",
      " 0.20211758 0.20241467 0.20297775 0.20434693 0.20517398 0.2063592\n",
      " 0.20913109 0.20981748 0.21101563 0.21144166 0.21233956 0.21263556\n",
      " 0.21284284 0.21284499 0.21293704 0.21374171 0.21508738 0.21543973\n",
      " 0.21548792 0.21564707 0.21589214 0.21610319 0.21718378 0.21796543\n",
      " 0.21812371 0.218399   0.21920441 0.21961013 0.21974104 0.22016005\n",
      " 0.22141166 0.22171444 0.22252729 0.22300846 0.2235016  0.22355128\n",
      " 0.22371786 0.22376527 0.22438623 0.22816685 0.22820962 0.22882223\n",
      " 0.22932771 0.23051907 0.23210894 0.23233164 0.23237265 0.23404535\n",
      " 0.23433318 0.23492543 0.23501612 0.23516713 0.23568522 0.23665044\n",
      " 0.23795281 0.23848444 0.24024251 0.24067993 0.24346453 0.24366264\n",
      " 0.2437197  0.24422881 0.24476919 0.24607736 0.24636284 0.24690304\n",
      " 0.24843105 0.24874147 0.24887253 0.24898243 0.24985416 0.25046123\n",
      " 0.25146991 0.2528962  0.25299145 0.25417898 0.25466912 0.25510901\n",
      " 0.25586201 0.25640024 0.25670153 0.2596598  0.25975147 0.25998474\n",
      " 0.26204463 0.26275946 0.26334006 0.26388915 0.26414495 0.26484949\n",
      " 0.26487572 0.26663864 0.26826144 0.27031409 0.27035754 0.27169883\n",
      " 0.27255556 0.27340958 0.27344574 0.27352321 0.27402786 0.27427001\n",
      " 0.27465832 0.27468444 0.27649712 0.27695923 0.2803024  0.28111556\n",
      " 0.28170894 0.28257601 0.28259969 0.28478179 0.28509123 0.28552276\n",
      " 0.28589082 0.28676363 0.28792627 0.28798224 0.28884097 0.28887858\n",
      " 0.29198119 0.29362974 0.29425185 0.29611634 0.29814397 0.29885893\n",
      " 0.29949028 0.30025549 0.3007938  0.30086219 0.30315858 0.30423792\n",
      " 0.30454118 0.30564179 0.30731205 0.30817069 0.309661   0.31129981\n",
      " 0.31136619 0.31169177 0.31184918 0.31301124 0.31390538 0.31404773\n",
      " 0.31450705 0.31500304 0.31917501 0.32212807 0.32231241 0.32244853\n",
      " 0.32287232 0.3252929  0.32536734 0.32687377 0.32871628 0.32962161\n",
      " 0.33054866 0.33648525 0.33655801 0.33806092 0.34160738 0.34210109\n",
      " 0.34214443 0.34304869 0.34468903 0.34732804 0.34819236 0.34902244\n",
      " 0.35035561 0.35229431 0.35266025 0.35572601 0.3575542  0.35783391\n",
      " 0.35833349 0.36044539 0.36140147 0.36349878 0.36732738 0.36985925\n",
      " 0.3717651  0.37396189 0.37613245 0.3768742  0.37894212 0.37919915\n",
      " 0.37975733 0.38015592 0.38339021 0.38645786 0.38756731 0.39008069\n",
      " 0.39061293 0.39244536 0.39569239 0.39625747 0.39645763 0.39699068\n",
      " 0.39891791 0.40101544 0.40248545 0.40420065 0.40445055 0.40640639\n",
      " 0.40943411 0.41028524 0.41082609 0.41323993 0.41326382 0.41669305\n",
      " 0.4193163  0.42063819 0.42083636 0.42545052 0.43028196 0.4313362\n",
      " 0.43140315 0.43507488 0.43677655 0.44345009 0.44626289 0.44800541\n",
      " 0.44943139 0.45920152 0.46119198 0.46319112 0.46376681 0.46577241\n",
      " 0.46931373 0.47401224 0.47457153 0.47558214 0.47621129 0.47661759\n",
      " 0.47839591 0.48178637 0.48416733 0.48703063 0.49163823 0.49202164\n",
      " 0.50184524 0.514171   0.51566534 0.51819361 0.5239166  0.52779082\n",
      " 0.53130209 0.53175176 0.53226969 0.53271806 0.53731006 0.54243446\n",
      " 0.54594163 0.54600542 0.54874753 0.54960139 0.55565301 0.56042863\n",
      " 0.56921979 0.5734701  0.57807452 0.57901626 0.59062264 0.59409894\n",
      " 0.59444183 0.59708535 0.59885762 0.60147882 0.60194505 0.60580761\n",
      " 0.60696446 0.61050017 0.61089866 0.61100318 0.61107288 0.61714608\n",
      " 0.62076597 0.62091534 0.62232055 0.62377381 0.62530287 0.63168563\n",
      " 0.63187914 0.63226203 0.63477015 0.63726901 0.64157652 0.64218712\n",
      " 0.64246535 0.64566491 0.64729212 0.65055548 0.65498607 0.65572291\n",
      " 0.66021991 0.66255158 0.66351731 0.66361421 0.66745274 0.66796282\n",
      " 0.68273638 0.68466045 0.69285934 0.69772936 0.70289177 0.70406134\n",
      " 0.70422883 0.70744002 0.70802318 0.70847413 0.71169494 0.71535331\n",
      " 0.73302132 0.73696615 0.73898605 0.73982481 0.74416263 0.74531701\n",
      " 0.75084444 0.75161907 0.75776863 0.76233313 0.76528716 0.76795626\n",
      " 0.77093132 0.77893505 0.78046735 0.7817009  0.78204965 0.78329856\n",
      " 0.78535432 0.78964451 0.78965531 0.78972051 0.79248984 0.79467326\n",
      " 0.79598865 0.79742141 0.7975137  0.79764766 0.79969206 0.80052352\n",
      " 0.80312777 0.80429387 0.8044876  0.80726836 0.81069756 0.81777383\n",
      " 0.81943914 0.82016099 0.82415129 0.82497518 0.82949084 0.83191925\n",
      " 0.8323468  0.83599836 0.83608693 0.84350555 0.84382799 0.8442385\n",
      " 0.84468425 0.84544914 0.84669823 0.84682651 0.84696956 0.84706979\n",
      " 0.84946496 0.85071001 0.85436549 0.85550114 0.85751103 0.85868122\n",
      " 0.85935589 0.85947534 0.86095311 0.86185172 0.86251634 0.86308999\n",
      " 0.86401087 0.86919086 0.8694136  0.87116332 0.87163006 0.87207154\n",
      " 0.87238161 0.87452123 0.87547111 0.87587232 0.87807952 0.87872606\n",
      " 0.87932087 0.87955426 0.88079559 0.88233243 0.88331601 0.88332107\n",
      " 0.88398829 0.88399598 0.88425305 0.88475331 0.8849071  0.88506243\n",
      " 0.88625787 0.88683941 0.88704934 0.88705527 0.88738782 0.88748561\n",
      " 0.8881367  0.88848737 0.88916762 0.88944757 0.88951722 0.88984041\n",
      " 0.89004546 0.89107618 0.89136798 0.89169509 0.89251203 0.89297473\n",
      " 0.89303699 0.89339324 0.89389323 0.8942632  0.89493578 0.89525341\n",
      " 0.895577   0.89672895 0.89774682 0.89814587 0.89887916 0.89973343\n",
      " 0.89993247 0.90140514 0.90197061 0.90197301 0.90477526 0.90492665\n",
      " 0.90565532 0.90597218 0.90674422 0.90816673 0.9085668  0.90887307\n",
      " 0.91034756 0.91161204 0.91205901 0.91229866 0.91273828 0.91344076\n",
      " 0.91464578 0.91512286 0.9154105  0.91606627 0.91711049 0.91804692\n",
      " 0.91828815 0.91997068 0.92028629 0.92097276 0.9215566  0.92274184\n",
      " 0.92290666 0.92436416 0.92457606 0.92543808 0.9260224  0.92606665\n",
      " 0.92630804 0.92978022 0.93013933 0.93027889 0.93079145 0.93202432\n",
      " 0.93361829 0.93577617 0.93624447 0.93704501 0.93746077 0.93815149\n",
      " 0.93899284 0.93966561 0.94020218 0.94074575 0.94114746 0.94273854\n",
      " 0.94307221 0.94367147 0.94372848 0.94420574 0.9449322  0.94512871\n",
      " 0.94561869 0.94562675 0.94594456 0.9459665  0.94599612 0.94684919\n",
      " 0.94707884 0.94761299 0.94830223 0.94836959 0.94874148 0.94941372\n",
      " 0.94979352 0.94999977 0.95039441 0.95100681 0.95124228 0.95138944\n",
      " 0.95216686 0.95236422 0.95254018 0.95258453 0.95267186 0.95295054\n",
      " 0.9542881  0.95584682 0.95610766 0.95737536 0.95809695 0.95872861\n",
      " 0.95939759 0.95972736 0.96151367 0.96184362 0.96241178 0.96398452\n",
      " 0.96614482 0.97309776 0.97449611 0.97706347 0.97714809 0.9778881\n",
      " 0.97940801]\n"
     ]
    }
   ],
   "source": [
    "print(thresholds)"
   ]
  },
  {
   "cell_type": "code",
   "execution_count": 22,
   "metadata": {},
   "outputs": [],
   "source": [
    "precision, recall, thresholds_2 = precision_recall_curve(y_test, y_score)\n",
    "\n",
    "a = np.column_stack((recall,precision))\n",
    "\n",
    "a = ma.masked_less_equal(a,0)\n",
    "a = ma.mask_rows(a)\n",
    "f1 = hmean(a,axis=1)"
   ]
  },
  {
   "cell_type": "code",
   "execution_count": 23,
   "metadata": {},
   "outputs": [
    {
     "name": "stdout",
     "output_type": "stream",
     "text": [
      "f1 optimizing threshold: 0.34902243946125083\n"
     ]
    }
   ],
   "source": [
    "threshold_maximizing_F1 = thresholds[np.argmax(f1)]\n",
    "print('f1 optimizing threshold: {}'.format(threshold_maximizing_F1))"
   ]
  },
  {
   "cell_type": "code",
   "execution_count": null,
   "metadata": {},
   "outputs": [],
   "source": []
  }
 ],
 "metadata": {
  "kernelspec": {
   "display_name": "Python 3",
   "language": "python",
   "name": "python3"
  },
  "language_info": {
   "codemirror_mode": {
    "name": "ipython",
    "version": 3
   },
   "file_extension": ".py",
   "mimetype": "text/x-python",
   "name": "python",
   "nbconvert_exporter": "python",
   "pygments_lexer": "ipython3",
   "version": "3.7.4"
  }
 },
 "nbformat": 4,
 "nbformat_minor": 2
}
